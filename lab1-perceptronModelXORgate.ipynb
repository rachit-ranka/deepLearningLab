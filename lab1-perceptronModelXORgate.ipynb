{
 "cells": [
  {
   "cell_type": "code",
   "execution_count": null,
   "metadata": {},
   "outputs": [
    {
     "name": "stdout",
     "output_type": "stream",
     "text": [
      "XOR (0,1) = 1\n",
      "XOR (1,1) = 0\n",
      "XOR (0,0) = 0\n",
      "XOR (1,0) = 1\n"
     ]
    }
   ],
   "source": [
    "import numpy as np\n",
    "def unitStep(v):\n",
    "    if v>=0:\n",
    "        return 1\n",
    "    else:\n",
    "        return 0\n",
    "\n",
    "def perceptronModel(x,w,b):\n",
    "    v=np.dot(w,x)+b\n",
    "    y=unitStep(v)\n",
    "    return y\n",
    "\n",
    "def NOT_logicFunction(x):\n",
    "    wNOT= -1\n",
    "    bNOT= 0.5\n",
    "    return perceptronModel(x,wNOT,bNOT)\n",
    "\n",
    "def AND_logicFunction(x):\n",
    "    w=np.array([1,1])\n",
    "    b=-1.5\n",
    "    return perceptronModel(x,w,b)\n",
    "\n",
    "def OR_logicFunction(x):\n",
    "    w=np.array([1,1])\n",
    "    bOR=-0.5\n",
    "    return perceptronModel(x,w,bOR)\n",
    "\n",
    "def XOR_logicFunction(x):\n",
    "  y1=AND_logicFunction(x)\n",
    "  y2=OR_logicFunction(x)\n",
    "  y3=NOT_logicFunction(y1)\n",
    "  final_x=np.array([y2,y3])\n",
    "  finalOutput=AND_logicFunction(final_x)\n",
    "  return finalOutput\n",
    "\n",
    "test1=np.array([0,1])\n",
    "test2=np.array([1,1])\n",
    "test3=np.array([0,0])\n",
    "test4=np.array([1,0])\n",
    "\n",
    "print(\"XOR ({},{}) = {}\".format(0,1,XOR_logicFunction(test1)))\n",
    "print(\"XOR ({},{}) = {}\".format(1,1,XOR_logicFunction(test2)))\n",
    "print(\"XOR ({},{}) = {}\".format(0,0,XOR_logicFunction(test3)))\n",
    "print(\"XOR ({},{}) = {}\".format(1,0,XOR_logicFunction(test4)))\n",
    "\n"
   ]
  },
  {
   "cell_type": "code",
   "execution_count": 1,
   "metadata": {},
   "outputs": [
    {
     "name": "stdout",
     "output_type": "stream",
     "text": [
      "XOR Gate Implementation using Perceptron:\n",
      "XOR(0, 0) = 0\n",
      "XOR(0, 1) = 1\n",
      "XOR(1, 0) = 1\n",
      "XOR(1, 1) = 0\n"
     ]
    }
   ],
   "source": [
    "import numpy as np\n",
    "\n",
    "def unitStep(v):\n",
    "    return 1 if v >= 0 else 0\n",
    "\n",
    "def perceptronModel(x, w, b):\n",
    "    v = np.dot(w, x) + b\n",
    "    y = unitStep(v)\n",
    "    return y\n",
    "\n",
    "def train_perceptron(X, Y, learning_rate=0.1, epochs=10):\n",
    "    w = np.zeros(X.shape[1])  # Initialize weights as zeros\n",
    "    b = 0  # Initialize bias as zero\n",
    "    for epoch in range(epochs):\n",
    "        for i in range(len(X)):\n",
    "            x_i = X[i]\n",
    "            y_pred = perceptronModel(x_i, w, b)\n",
    "            error = Y[i] - y_pred\n",
    "            w = w + learning_rate * error * x_i\n",
    "            b = b + learning_rate * error\n",
    "    return w, b\n",
    "\n",
    "# Define the AND, OR, and NOT gate functions using trainable weights\n",
    "\n",
    "def AND_gate(x):\n",
    "    w, b = train_perceptron(np.array([[0, 0], [0, 1], [1, 0], [1, 1]]), np.array([0, 0, 0, 1]))\n",
    "    return perceptronModel(x, w, b)\n",
    "\n",
    "def OR_gate(x):\n",
    "    w, b = train_perceptron(np.array([[0, 0], [0, 1], [1, 0], [1, 1]]), np.array([0, 1, 1, 1]))\n",
    "    return perceptronModel(x, w, b)\n",
    "\n",
    "def NOT_gate(x):\n",
    "    # The NOT gate is unary; thus, we only need a single weight and bias\n",
    "    w, b = train_perceptron(np.array([[0], [1]]), np.array([1, 0]))\n",
    "    return perceptronModel(x, w, b)\n",
    "\n",
    "def XOR_gate(x):\n",
    "    and_result = AND_gate(x)\n",
    "    or_result = OR_gate(x)\n",
    "    not_and_result = NOT_gate(np.array([and_result]))\n",
    "    final_output = AND_gate(np.array([or_result, not_and_result]))\n",
    "    return final_output\n",
    "\n",
    "# Testing XOR gate with the new perceptron learning\n",
    "test_cases = [np.array([0, 0]), np.array([0, 1]), np.array([1, 0]), np.array([1, 1])]\n",
    "\n",
    "print(\"XOR Gate Implementation using Perceptron:\")\n",
    "for case in test_cases:\n",
    "    print(f\"XOR({case[0]}, {case[1]}) = {XOR_gate(case)}\")"
   ]
  }
 ],
 "metadata": {
  "kernelspec": {
   "display_name": "base",
   "language": "python",
   "name": "python3"
  },
  "language_info": {
   "codemirror_mode": {
    "name": "ipython",
    "version": 3
   },
   "file_extension": ".py",
   "mimetype": "text/x-python",
   "name": "python",
   "nbconvert_exporter": "python",
   "pygments_lexer": "ipython3",
   "version": "3.12.4"
  }
 },
 "nbformat": 4,
 "nbformat_minor": 2
}
